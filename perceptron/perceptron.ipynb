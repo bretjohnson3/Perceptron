{
 "cells": [
  {
   "cell_type": "code",
   "execution_count": 1,
   "metadata": {
    "collapsed": true
   },
   "outputs": [],
   "source": [
    "import numpy as np\n",
    "import random\n",
    "import matplotlib.pyplot as plt\n"
   ]
  },
  {
   "cell_type": "code",
   "execution_count": 2,
   "metadata": {
    "collapsed": true
   },
   "outputs": [],
   "source": [
    "def random_float():\n",
    "    x = random.uniform(-1,1)\n",
    "    return x\n",
    "\n",
    "def make_line():\n",
    "    point1 = []\n",
    "    point2 = []\n",
    "    \n",
    "    point1.append(random_float())\n",
    "    point1.append(random_float())\n",
    "    point2.append(random_float())\n",
    "    point2.append(random_float())\n",
    "    \n",
    "    slope = (point1[1] - point2[1]) / (point1[0] - point2[0])\n",
    "    y_int = slope * -1 * point1[0] + point1[1]\n",
    "    \n",
    "    return [slope, y_int]"
   ]
  },
  {
   "cell_type": "code",
   "execution_count": null,
   "metadata": {
    "collapsed": true
   },
   "outputs": [],
   "source": []
  },
  {
   "cell_type": "code",
   "execution_count": null,
   "metadata": {},
   "outputs": [],
   "source": []
  },
  {
   "cell_type": "code",
   "execution_count": 3,
   "metadata": {},
   "outputs": [],
   "source": [
    "def graph(slope, y_int):  \n",
    "\n",
    "    formula = str(slope)\n",
    "    formula += ' * x '\n",
    "    if y_int < 0:\n",
    "        formula += '- ' \n",
    "    else:\n",
    "        formula += '+ '\n",
    "    formula += str(abs(y_int))\n",
    "\n",
    "    x = np.array([-1, 0, 1])\n",
    "    y = eval(formula)\n",
    "    \n",
    "    return plt.plot(x, y)  \n"
   ]
  },
  {
   "cell_type": "code",
   "execution_count": null,
   "metadata": {},
   "outputs": [],
   "source": []
  },
  {
   "cell_type": "code",
   "execution_count": 4,
   "metadata": {},
   "outputs": [],
   "source": [
    "def generate_points(N):\n",
    "    lst_points = []\n",
    "    for i in range(N):\n",
    "        point = []\n",
    "        point.append(1)\n",
    "        point.append(random_float())\n",
    "        point.append(random_float())\n",
    "        lst_points.append(point)\n",
    "    return lst_points\n",
    "\n",
    "\n",
    "\n",
    "def init_points(N, line):\n",
    "    lst_points = generate_points(N)\n",
    "    for point in lst_points:\n",
    "        x_val = point[1]\n",
    "        y_val = point[2]\n",
    "        line_y = line[0] * x_val + line[1]\n",
    "        if line_y > y_val:\n",
    "            point.append(-1)\n",
    "        else:\n",
    "            point.append(1)\n",
    "    return lst_points\n",
    "\n"
   ]
  },
  {
   "cell_type": "code",
   "execution_count": 7,
   "metadata": {
    "collapsed": true
   },
   "outputs": [],
   "source": [
    "# maybe update for n dimensions rather than only 2\n",
    "def update_weight(weight, point):\n",
    "    new_weight = []\n",
    "    for i in range(3):\n",
    "        new_weight.append(weight[i] + (point[3] * point[i]))\n",
    "    return new_weight"
   ]
  },
  {
   "cell_type": "code",
   "execution_count": 92,
   "metadata": {
    "collapsed": true
   },
   "outputs": [],
   "source": [
    "def plot_points(points, plot):\n",
    "    positive_x, positive_y = [], []\n",
    "    negative_x, negative_y = [], []\n",
    "    for point in points:\n",
    "        if point[3] <= 0:\n",
    "            negative_x.append(point[1])\n",
    "            negative_y.append(point[2])\n",
    "        else:\n",
    "            positive_x.append(point[1])\n",
    "            positive_y.append(point[2])\n",
    "    plt.scatter(positive_x, positive_y, s = 40, marker = '+', color = 'g', )\n",
    "    plt.scatter(negative_x, negative_y, s = 40, marker = 'x', color = 'r')\n",
    "    return plot"
   ]
  },
  {
   "cell_type": "code",
   "execution_count": 128,
   "metadata": {
    "scrolled": false
   },
   "outputs": [
    {
     "name": "stdout",
     "output_type": "stream",
     "text": [
      "[0.49605283087551144, -0.4338163856211388]\n",
      "5\n",
      "[1, -1.6480319548526219, 1.0228160259436923]\n",
      "(1.6112691950950608, -0.9776929326829414)\n"
     ]
    },
    {
     "data": {
      "image/png": "[encoded data removed]",
      "text/plain": [
       "<matplotlib.figure.Figure at 0x10e2dd828>"
      ]
     },
     "metadata": {},
     "output_type": "display_data"
    }
   ],
   "source": [
    "n = 10\n",
    "\n",
    "weight_vector = [0,0,0]\n",
    "misclass_points = []\n",
    "iterations = 0\n",
    "\n",
    "target_line = make_line()\n",
    "print (target_line)\n",
    "lst_points = init_points(n, target_line)\n",
    "g = graph(target_line[0], target_line[1])\n",
    "plot_points(lst_points, g)\n",
    "\n",
    "# program works above this line. Target line is produced and points are initialized as yes or no.\n",
    "\n",
    "for point in lst_points:\n",
    "    misclass_points.append(point)\n",
    "\n",
    "while misclass_points != []:\n",
    "    point = random.choice(misclass_points)\n",
    "    weight_vector = update_weight(weight_vector, point)\n",
    "    iterations += 1\n",
    "    misclass_points = []\n",
    "    graph_weight_inter(weight_vector[0], weight_vector[1])\n",
    "\n",
    "\n",
    "    for point in lst_points:\n",
    "        if (np.sign((weight_vector[0] * point[0]) + (weight_vector[1] * \n",
    "                point[1]) + (weight_vector[2] * point[2])) != point[3]):\n",
    "            misclass_points.append(point)\n",
    "\n",
    "counter  = 0\n",
    "print (iterations)\n",
    "print (weight_vector)\n",
    "line = get_line_from_weight(weight_vector)\n",
    "print (line)\n",
    "graph_weight(line[0], line[1])\n"
   ]
  },
  {
   "cell_type": "code",
   "execution_count": null,
   "metadata": {
    "collapsed": true
   },
   "outputs": [],
   "source": []
  },
  {
   "cell_type": "code",
   "execution_count": 112,
   "metadata": {
    "collapsed": true
   },
   "outputs": [],
   "source": [
    "def get_line_from_weight(weight):\n",
    "    slope = -1 * weight[1] / weight[2]\n",
    "    y_int = -1 * weight[0] / weight[2]\n",
    "    return slope, y_int"
   ]
  },
  {
   "cell_type": "code",
   "execution_count": 119,
   "metadata": {
    "collapsed": true
   },
   "outputs": [],
   "source": [
    "def graph_weight(slope, y_int):  \n",
    "\n",
    "    formula = str(slope)\n",
    "    formula += ' * x '\n",
    "    if y_int < 0:\n",
    "        formula += '- ' \n",
    "    else:\n",
    "        formula += '+ '\n",
    "    formula += str(abs(y_int))\n",
    "\n",
    "    x = np.array([-1, 0, 1])\n",
    "    y = eval(formula)\n",
    "    \n",
    "    plt.plot(x, y, color = 'g')  \n",
    "    plt.show()\n",
    "\n"
   ]
  },
  {
   "cell_type": "code",
   "execution_count": 124,
   "metadata": {
    "collapsed": true
   },
   "outputs": [],
   "source": [
    "def graph_weight_inter(slope, y_int):  \n",
    "    formula = str(slope)\n",
    "    formula += ' * x '\n",
    "    if y_int < 0:\n",
    "        formula += '- ' \n",
    "    else:\n",
    "        formula += '+ '\n",
    "    formula += str(abs(y_int))\n",
    "\n",
    "    x = np.array([-1, 0, 1])\n",
    "    y = eval(formula)\n",
    "    \n",
    "    return plt.plot(x, y, color = 'g')  \n",
    "    \n",
    "\n"
   ]
  },
  {
   "cell_type": "code",
   "execution_count": null,
   "metadata": {
    "collapsed": true
   },
   "outputs": [],
   "source": []
  }
 ],
 "metadata": {
  "kernelspec": {
   "display_name": "Python 3",
   "language": "python",
   "name": "python3"
  },
  "language_info": {
   "codemirror_mode": {
    "name": "ipython",
    "version": 3
   },
   "file_extension": ".py",
   "mimetype": "text/x-python",
   "name": "python",
   "nbconvert_exporter": "python",
   "pygments_lexer": "ipython3",
   "version": "3.6.2"
  }
 },
 "nbformat": 4,
 "nbformat_minor": 2
}
